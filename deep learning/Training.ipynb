{
  "nbformat": 4,
  "nbformat_minor": 0,
  "metadata": {
    "colab": {
      "name": "Training.ipynb",
      "provenance": [],
      "collapsed_sections": [],
      "machine_shape": "hm"
    },
    "kernelspec": {
      "name": "python3",
      "display_name": "Python 3"
    },
    "accelerator": "GPU"
  },
  "cells": [
    {
      "cell_type": "code",
      "metadata": {
        "id": "iCJL8OpbvP8Z",
        "colab_type": "code",
        "outputId": "d82b96a9-41f7-4f4b-fde2-27bbb4e0b843",
        "colab": {
          "base_uri": "https://localhost:8080/",
          "height": 34
        }
      },
      "source": [
        "from google.colab import drive\n",
        "drive.mount('/gdrive')"
      ],
      "execution_count": 0,
      "outputs": [
        {
          "output_type": "stream",
          "text": [
            "Drive already mounted at /gdrive; to attempt to forcibly remount, call drive.mount(\"/gdrive\", force_remount=True).\n"
          ],
          "name": "stdout"
        }
      ]
    },
    {
      "cell_type": "code",
      "metadata": {
        "id": "s9AinegwvXNk",
        "colab_type": "code",
        "outputId": "3274c040-debc-495a-98bb-96c230fc1f3c",
        "colab": {
          "base_uri": "https://localhost:8080/",
          "height": 34
        }
      },
      "source": [
        "import os\n",
        "import cv2\n",
        "import numpy as np\n",
        "import scipy.ndimage\n",
        "import matplotlib.pyplot as plt\n",
        "from keras import backend as K\n",
        "from tensorflow import keras\n",
        "from scipy.ndimage import rotate\n",
        "import copy\n",
        "import tensorflow as tf"
      ],
      "execution_count": 0,
      "outputs": [
        {
          "output_type": "stream",
          "text": [
            "Using TensorFlow backend.\n"
          ],
          "name": "stderr"
        }
      ]
    },
    {
      "cell_type": "code",
      "metadata": {
        "id": "dCmjuUhTvdja",
        "colab_type": "code",
        "colab": {}
      },
      "source": [
        "#load preprocessed data\n",
        "np_load_old = np.load\n",
        "np.load = lambda *a,**k: np_load_old(*a, allow_pickle=True, **k)\n",
        "patients = np.load(\"/gdrive/My Drive/gp/offline-patient.npy\")\n",
        "tumors = np.load(\"/gdrive/My Drive/gp/offline-tumor.npy\")\n",
        "np.load = np_load_old"
      ],
      "execution_count": 0,
      "outputs": []
    },
    {
      "cell_type": "code",
      "metadata": {
        "id": "bFD-xHTmw9ku",
        "colab_type": "code",
        "colab": {}
      },
      "source": [
        "\n",
        "# input size\n",
        "img_width = 256\n",
        "img_hight = 256\n",
        "img_channels = 1\n",
        "\n",
        "\n",
        "\n",
        "# dice loss function\n",
        "def soft_dice_loss(y_true, y_pred, epsilon=1e-5): \n",
        "  \n",
        "    numerator = 2. * tf.reduce_sum(y_pred * y_true)\n",
        "    denominator = tf.reduce_sum(y_pred + y_true)\n",
        "    \n",
        "    return 1 - (numerator / (denominator + epsilon))\n",
        "\n",
        "\n",
        "# U Net\n",
        "#Encoders\n",
        "\n",
        "layer =  tf.keras.layers\n",
        "inputs = layer.Input((img_width,img_hight,img_channels))\n",
        "\n",
        "\n",
        "c1 = layer.Conv2D(16, (3,3), activation='relu', kernel_initializer='he_normal',padding='same')(inputs)\n",
        "c1 = layer.Dropout(0.1)(c1)\n",
        "c1 = layer.Conv2D(16, (3,3), activation='relu', kernel_initializer='he_normal',padding='same')(c1)\n",
        "p1 = layer.AveragePooling2D((2,2))(c1)\n",
        "\n",
        "\n",
        "c2 = layer.Conv2D(32, (3,3), activation='relu', kernel_initializer='he_normal',padding='same')(p1)\n",
        "c2 = layer.Dropout(0.1)(c2)\n",
        "c2 = layer.Conv2D(32, (3,3), activation='relu', kernel_initializer='he_normal',padding='same')(c2)\n",
        "p2 = layer.AveragePooling2D((2,2))(c2)\n",
        "\n",
        "\n",
        "c3 = layer.Conv2D(64, (3,3), activation='relu', kernel_initializer='he_normal',padding='same')(p2)\n",
        "c3 = layer.Dropout(0.2)(c3)\n",
        "c3 = layer.Conv2D(64, (3,3), activation='relu', kernel_initializer='he_normal',padding='same')(c3)\n",
        "p3 = layer.AveragePooling2D((2,2))(c3)\n",
        "\n",
        "\n",
        "c4 = layer.Conv2D(128, (3,3), activation='relu', kernel_initializer='he_normal',padding='same')(p3)\n",
        "c4 = layer.Dropout(0.2)(c4)\n",
        "c4 = layer.Conv2D(128, (3,3), activation='relu', kernel_initializer='he_normal',padding='same')(c4)\n",
        "p4 = layer.AveragePooling2D((2,2))(c4)\n",
        "\n",
        "c5 = layer.Conv2D(256, (3,3), activation='relu', kernel_initializer='he_normal',padding='same')(p4)\n",
        "c5 = layer.Dropout(0.3)(c5)\n",
        "c5 = layer.Conv2D(256, (3,3), activation='relu', kernel_initializer='he_normal',padding='same')(c5)\n",
        "\n",
        "\n",
        "#Decoders\n",
        "u6 = layer.Conv2DTranspose(128, (2,2), strides=(2,2),padding='same')(c5)\n",
        "u6 = layer.concatenate([u6,c4])\n",
        "c6 = layer.Conv2D(128, (3,3), activation='relu', kernel_initializer='he_normal',padding='same')(u6)\n",
        "c6 = layer.Dropout(0.2)(c6)\n",
        "c6 = layer.Conv2D(128, (3,3), activation='relu', kernel_initializer='he_normal',padding='same')(c6)\n",
        "\n",
        "\n",
        "u7 = layer.Conv2DTranspose(64, (2,2), strides=(2,2),padding='valid')(c6)\n",
        "u7 = layer.concatenate([u7,c3])\n",
        "c7 = layer.Conv2D(64, (3,3), activation='relu', kernel_initializer='he_normal',padding='same')(u7)\n",
        "c7 = layer.Dropout(0.2)(c7)\n",
        "c7 = layer.Conv2D(64, (3,3), activation='relu', kernel_initializer='he_normal',padding='same')(c7)\n",
        "\n",
        "\n",
        "u8 = layer.Conv2DTranspose(32, (2,2), strides=(2,2),padding='valid')(c7)\n",
        "u8 = layer.concatenate([u8,c2])\n",
        "c8 = layer.Conv2D(32, (3,3), activation='relu', kernel_initializer='he_normal',padding='same')(u8)\n",
        "c8 = layer.Dropout(0.1)(c8)\n",
        "c8 = layer.Conv2D(32, (3,3), activation='relu', kernel_initializer='he_normal',padding='same')(c8)\n",
        "\n",
        "\n",
        "u9 = layer.Conv2DTranspose(16, (2,2), strides=(2,2),padding='valid')(c8)\n",
        "u9 = layer.concatenate([u9,c1],axis=3)\n",
        "c9 = layer.Conv2D(16, (3,3), activation='relu', kernel_initializer='he_normal',padding='same')(u9)\n",
        "u9 = layer.Dropout(0.1)(c9)\n",
        "c9 = layer.Conv2D(16, (3,3), activation='relu', kernel_initializer='he_normal',padding='same')(c9)\n",
        "\n",
        "outputs = layer.Conv2D(1,(1,1),activation='sigmoid')(c9)\n",
        "\n",
        "model = tf.keras.Model(inputs=[inputs], outputs=[outputs])\n",
        "model.compile(optimizer='adam', loss=soft_dice_loss , metrics = [tf.keras.metrics.MeanIoU(num_classes=2,name='Mean_IoU')])\n",
        "model.summary()\n"
      ],
      "execution_count": 0,
      "outputs": []
    },
    {
      "cell_type": "markdown",
      "metadata": {
        "id": "YGNL7VTeaVz2",
        "colab_type": "text"
      },
      "source": [
        "## getting data ready to the model"
      ]
    },
    {
      "cell_type": "code",
      "metadata": {
        "id": "Fv5mFK-J4k-f",
        "colab_type": "code",
        "colab": {}
      },
      "source": [
        "# resize data to 256*256 \n",
        "patients_256 = []\n",
        "tumors_256 = []\n",
        "for i in range(15):\n",
        "  p256 = []\n",
        "  t256 = []\n",
        "  for j in range(len(patients_liver[i])):\n",
        "    resized1 = cv2.resize(patients[i][j], (256,256), interpolation = cv2.INTER_AREA)\n",
        "    resized3 = cv2.resize(tumors[i][j], (256,256), interpolation = cv2.INTER_AREA)\n",
        "    p256.append(resized1)\n",
        "    t256.append(resized3)\n",
        "  patients_256.append(p256)\n",
        "  tumors_256.append(t256)"
      ],
      "execution_count": 0,
      "outputs": []
    },
    {
      "cell_type": "code",
      "metadata": {
        "id": "Kt3X7mmLkmeG",
        "colab_type": "code",
        "colab": {}
      },
      "source": [
        "train_len = 0\n",
        "test_len = 0\n",
        "for i in range(12):\n",
        "  train_len += len(patients_256[i])\n",
        "print(train_len)\n",
        "\n",
        "for i in range(12,15):\n",
        "  test_len += len(patients_256[i])\n",
        "print(test_len)"
      ],
      "execution_count": 0,
      "outputs": []
    },
    {
      "cell_type": "code",
      "metadata": {
        "id": "xpA2hVIyV93_",
        "colab_type": "code",
        "colab": {}
      },
      "source": [
        "# stac all slices to be ready for model \n",
        "x_train = np.zeros( (train_len, img_hight, img_width, img_channels), dtype=np.float32)\n",
        "y_train = np.zeros( (train_len, img_hight, img_width, img_channels), dtype=np.float32)\n",
        "\n",
        "x_test = np.zeros( (test_len, img_hight, img_width, img_channels), dtype=np.float32)\n",
        "y_test = np.zeros( (test_len, img_hight, img_width, img_channels), dtype=np.float32)\n",
        "\n",
        "count = 0\n",
        "for i in range(12):\n",
        "  for j,each_slice in enumerate(patients_256[i]):\n",
        "    x_train[count] = patients_256[i][j].reshape((256,256,1))\n",
        "    y_train[count] = tumors_256[i][j].reshape((256,256,1))\n",
        "    count+=1\n",
        "print(count)\n",
        "\n",
        "\n",
        "count = 0\n",
        "for i in range(12,15):\n",
        "  for j,each_slice in enumerate(patients_256[i]):\n",
        "    x_test[count] = patients_256[i][j].reshape((256,256,1))\n",
        "    y_test[count] = tumors_256[i][j].reshape((256,256,1))\n",
        "    count+=1\n",
        "print(count)\n"
      ],
      "execution_count": 0,
      "outputs": []
    },
    {
      "cell_type": "code",
      "metadata": {
        "id": "Wr0YRrt85RYS",
        "colab_type": "code",
        "colab": {}
      },
      "source": [
        "#spiit data to tarin and valid\n",
        "from sklearn.model_selection import train_test_split\n",
        "\n",
        "trainX, validX, trainY, validY = train_test_split(x_train, y_train, test_size=0.3, random_state=2020)"
      ],
      "execution_count": 0,
      "outputs": []
    },
    {
      "cell_type": "code",
      "metadata": {
        "id": "oBOQ3UMX0UnT",
        "colab_type": "code",
        "colab": {}
      },
      "source": [
        "call1 = tf.keras.callbacks.ModelCheckpoint(\"/gdrive/My Drive/gp/model-liver-tumor.h5\",verbose=1,save_best_only=True)\n",
        "call2 = tf.keras.callbacks.TensorBoard(log_dir='logs')\n",
        "EPOCHS = 50\n",
        "BS = 64"
      ],
      "execution_count": 0,
      "outputs": []
    },
    {
      "cell_type": "code",
      "metadata": {
        "id": "zIrFWER33o-3",
        "colab_type": "code",
        "colab": {}
      },
      "source": [
        "# train the network\n",
        "trained = model.fit( trainX, trainY, batch_size=BS ,validation_data=(validX, validY), epochs=EPOCHS, callbacks=[call1,call2])"
      ],
      "execution_count": 0,
      "outputs": []
    },
    {
      "cell_type": "code",
      "metadata": {
        "id": "3pCUSw9jMsde",
        "colab_type": "code",
        "colab": {}
      },
      "source": [
        "loss,acc = model.evaluate(x_train,  y_train, verbose=2)"
      ],
      "execution_count": 0,
      "outputs": []
    },
    {
      "cell_type": "code",
      "metadata": {
        "id": "ZkdhAd0nM25n",
        "colab_type": "code",
        "colab": {}
      },
      "source": [
        "predict = model.predict(x_test)\n",
        "predict = (predict > 0.5).astype(np.uint8)"
      ],
      "execution_count": 0,
      "outputs": []
    },
    {
      "cell_type": "code",
      "metadata": {
        "id": "MxFyt8UUyCNO",
        "colab_type": "code",
        "colab": {}
      },
      "source": [
        "# check test score\n",
        "m = tf.keras.metrics.MeanIoU(num_classes=2)\n",
        "m.update_state(predict, y_test)\n",
        "\n",
        "print('Final result: ', m.result().numpy())  \n"
      ],
      "execution_count": 0,
      "outputs": []
    },
    {
      "cell_type": "code",
      "metadata": {
        "id": "auwg-xKfNXlW",
        "colab_type": "code",
        "colab": {}
      },
      "source": [
        "#see  sample\n",
        "sample = 109\n",
        "\n",
        "f, ax = plt.subplots(1,3,figsize=(14, 40))\n",
        "\n",
        "\n",
        "ax[0].set_title(' patient ')\n",
        "ax[0].imshow(x_train[sample].reshape((256, 256)))\n",
        "\n",
        "ax[1].set_title(' Predicted ')\n",
        "ax[1].imshow(predict[sample].reshape((256, 256)))\n",
        "\n",
        "ax[2].set_title(' True ')\n",
        "ax[2].imshow(y_train[sample].reshape((256, 256)))\n",
        "\n",
        "plt.show()"
      ],
      "execution_count": 0,
      "outputs": []
    }
  ]
}