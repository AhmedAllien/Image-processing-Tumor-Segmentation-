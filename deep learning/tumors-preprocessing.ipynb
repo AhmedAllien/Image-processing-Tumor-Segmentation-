{
 "cells": [
  {
   "cell_type": "code",
   "execution_count": 5,
   "metadata": {
    "colab": {},
    "colab_type": "code",
    "id": "CbAQ_S_n6-yV"
   },
   "outputs": [],
   "source": [
    "import tensorflow as tf\n",
    "import os # for doing directory operations \n",
    "import pandas as pd # for some simple data analysis (right now, just to load in the labels data and quickly reference it)\n",
    "import cv2\n",
    "import numpy as np\n",
    "import scipy.ndimage\n",
    "import matplotlib.pyplot as plt\n",
    "import pydicom\n",
    "from tensorflow.keras.models import load_model\n"
   ]
  },
  {
   "cell_type": "code",
   "execution_count": 6,
   "metadata": {
    "colab": {},
    "colab_type": "code",
    "id": "VDiiGUKxID90"
   },
   "outputs": [
    {
     "name": "stdout",
     "output_type": "stream",
     "text": [
      "<class 'numpy.ndarray'>\n"
     ]
    }
   ],
   "source": [
    "#returns the hounse fied unit of slices \n",
    "def get_pixels_hu(slices):\n",
    "    image = np.stack([s.pixel_array for s in slices])\n",
    "    # Convert to int16 (from sometimes int16), \n",
    "    # should be possible as values should always be low enough (<32k)\n",
    "    image = image.astype(np.int16)\n",
    "\n",
    "    # Set outside-of-scan pixels to 0\n",
    "    # The intercept is usually -1024, so air is approximately 0\n",
    "    image[image == -2000] = 0\n",
    "    \n",
    "    # Convert to Hounsfield units (HU)\n",
    "    for slice_number in range(len(slices)):\n",
    "        \n",
    "        intercept = slices[slice_number].RescaleIntercept\n",
    "        slope = slices[slice_number].RescaleSlope\n",
    "        \n",
    "        if slope != 1:\n",
    "            image[slice_number] = slope * image[slice_number].astype(np.float64)\n",
    "            image[slice_number] = image[slice_number].astype(np.int16)\n",
    "            \n",
    "        image[slice_number] += np.int16(intercept)\n",
    "    \n",
    "    return np.array(image, dtype=np.int16)\n",
    "\n",
    "\n",
    "#normalize data withiin range -200 500\n",
    "MIN_BOUND = -200.0\n",
    "MAX_BOUND = 500.0    \n",
    "def normalize(image):\n",
    "    image = (image - MIN_BOUND) / (MAX_BOUND - MIN_BOUND)\n",
    "    image[image>1] = 1.\n",
    "    image[image<0] = 0.\n",
    "    return image\n",
    "\n",
    "\n",
    "#resample the image to 1mm in all diminsions \n",
    "def resample(image, scan, new_spacing=[1,1,1]):\n",
    "    # Determine current pixel spacing\n",
    "    spacing = np.array([scan[0].SliceThickness, scan[0].PixelSpacing[0], scan[0].PixelSpacing[1]], dtype=np.float32)\n",
    "\n",
    "    resize_factor = spacing / new_spacing\n",
    "    new_real_shape = image.shape * resize_factor\n",
    "    new_shape = np.round(new_real_shape)\n",
    "    real_resize_factor = new_shape / image.shape\n",
    "    new_spacing = spacing / real_resize_factor\n",
    "   \n",
    "    \n",
    "    image = scipy.ndimage.interpolation.zoom(image, real_resize_factor, mode='nearest')\n",
    "    image = image.atype(np.float32)image = image.astype(np.float32)\n",
    "    \n",
    "    \n",
    "    return image\n",
    "\n"
   ]
  },
  {
   "cell_type": "code",
   "execution_count": null,
   "metadata": {},
   "outputs": [],
   "source": [
    "def tumor_segm(tumur_count = [7,1,1,1,1,3,1,1,1,1,1,1,2,1,1]):\n",
    "    tumor_segm = []\n",
    "    pathes = []\n",
    "    for i in range(15):\n",
    "        s1 = \"3Dircadb1/3Dircadb1.\"\n",
    "        s2 = \"/MASKS_DICOM/livertumor0\"\n",
    "        if tumur_count[i] == 1:\n",
    "            pathes.append([s1+str(i+1)+s2+'1'])\n",
    "        else:\n",
    "            l = []\n",
    "            for k in range(tumur_count[i]):\n",
    "                l.append(s1+str(i+1)+s2+str(k+1))\n",
    "            pathes.append(l)\n",
    "    #print(pathes)\n",
    "    \n",
    "    \n",
    "    tumor_slices = []\n",
    "    tumor_norm = []\n",
    "    for path in pathes:\n",
    "    #     labels_df.get_value(patient, 'cancer')\n",
    "        if len(path) == 1:\n",
    "            # a couple great 1-liners from: https://www.kaggle.com/gzuidhof/data-science-bowl-2017/full-preprocessing-tutorial\n",
    "            slices = [pydicom.read_file(path[0]+\"/\" + s) for s in os.listdir(path[0])]\n",
    "            slices.sort(key = lambda x: int(x.ImagePositionPatient[2]))\n",
    "            tumor_slices.append(slices)\n",
    "            hf_3d = get_pixels_hu(slices)\n",
    "            norm = normalize2(hf_3d)\n",
    "            tumor_norm.append(norm)\n",
    "            \n",
    "        else:\n",
    "            temp = []\n",
    "            slices1 = [pydicom.read_file(path[0]+\"/\" + s) for s in os.listdir(path[0])]\n",
    "            slices1.sort(key = lambda x: int(x.ImagePositionPatient[2]))\n",
    "            dumy = get_pixels_hu(slices1)\n",
    "            add = np.zeros(shape = dumy.shape)\n",
    "            for k in range(len(path)):\n",
    "                slices = [pydicom.read_file(path[k]+\"/\" + s) for s in os.listdir(path[k])]\n",
    "                slices.sort(key = lambda x: int(x.ImagePositionPatient[2]))\n",
    "                temp.append(slices)\n",
    "                hf_3d = get_pixels_hu(slices)\n",
    "                norm = normalize2(hf_3d)\n",
    "                add = add + norm\n",
    "            tumor_slices.append(temp)\n",
    "            tumor_norm.append(add)\n",
    "    \n",
    "    \n",
    "    return tumor_norm,tumor_slices\n",
    "\n",
    "normalized_tumor,tumor_slices = tumor_segm()\n",
    "\n",
    "\n",
    "tumors_resampled = []\n",
    "for i in range(1):\n",
    "    pix_resampled, spacing = resample( normalized_tumor[i], tumor_slices, [1,1,1])\n",
    "    tumors_resampled.append(pix_resampled)\n"
   ]
  },
  {
   "cell_type": "code",
   "execution_count": null,
   "metadata": {},
   "outputs": [],
   "source": [
    "np.save('offline-pattients.npy',tumors_resampled)"
   ]
  }
 ],
 "metadata": {
  "colab": {
   "name": "preproc_predictig.ipynb",
   "provenance": []
  },
  "kernelspec": {
   "display_name": "Python 3",
   "language": "python",
   "name": "python3"
  },
  "language_info": {
   "codemirror_mode": {
    "name": "ipython",
    "version": 3
   },
   "file_extension": ".py",
   "mimetype": "text/x-python",
   "name": "python",
   "nbconvert_exporter": "python",
   "pygments_lexer": "ipython3",
   "version": "3.7.3"
  }
 },
 "nbformat": 4,
 "nbformat_minor": 1
}
