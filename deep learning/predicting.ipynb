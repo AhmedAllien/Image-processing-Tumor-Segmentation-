{
 "cells": [
  {
   "cell_type": "code",
   "execution_count": 1,
   "metadata": {},
   "outputs": [],
   "source": [
    "import pydicom # for reading dicom files\n",
    "import os # for doing directory operations \n",
    "import pandas as pd # for some simple data analysis (right now, just to load in the labels data and quickly reference it)\n",
    "import cv2\n",
    "import numpy as np\n",
    "import scipy.ndimage\n",
    "import matplotlib.pyplot as plt\n",
    "\n",
    "\n",
    "# Change this to wherever you are storing your data:\n",
    "# IF YOU ARE FOLLOWING aaON KAGGLE, YOU CAN ONLY PLAY WITH THE SAMPLE DATA, WHICH IS MUCH SMALLER\n",
    "patientsPAths = []\n",
    "for i in range(15):\n",
    "    s1 = \"3Dircadb1/3Dircadb1.\"\n",
    "    s2 = \"/PATIENT_DICOM\"\n",
    "    patientsPAths.append(s1+str(i+1)+s2)"
   ]
  },
  {
   "cell_type": "code",
   "execution_count": 2,
   "metadata": {},
   "outputs": [],
   "source": [
    "slicesData =[]\n",
    "for patient in patientsPAths:\n",
    "#     labels_df.get_value(patient, 'cancer')\n",
    "    path = patient\n",
    "    # a couple great 1-liners from: https://www.kaggle.com/gzuidhof/data-science-bowl-2017/full-preprocessing-tutorial\n",
    "    slices = [pydicom.read_file(path+\"/\" + s) for s in os.listdir(path)]\n",
    "    slices.sort(key = lambda x: int(x.ImagePositionPatient[2]))\n",
    "    slicesData.append(slices)"
   ]
  },
  {
   "cell_type": "code",
   "execution_count": 3,
   "metadata": {},
   "outputs": [],
   "source": [
    "def get_pixels_hu(slices):\n",
    "    image = np.stack([s.pixel_array for s in slices])\n",
    "    # Convert to int16 (from sometimes int16), \n",
    "    # should be possible as values should always be low enough (<32k)\n",
    "    image = image.astype(np.int16)\n",
    "\n",
    "    # Set outside-of-scan pixels to 0\n",
    "    # The intercept is usually -1024, so air is approximately 0\n",
    "    image[image == -2000] = 0\n",
    "    \n",
    "    # Convert to Hounsfield units (HU)\n",
    "    for slice_number in range(len(slices)):\n",
    "        \n",
    "        intercept = slices[slice_number].RescaleIntercept\n",
    "        slope = slices[slice_number].RescaleSlope\n",
    "        \n",
    "        if slope != 1:\n",
    "            image[slice_number] = slope * image[slice_number].astype(np.float64)\n",
    "            image[slice_number] = image[slice_number].astype(np.int16)\n",
    "            \n",
    "        image[slice_number] += np.int16(intercept)\n",
    "    \n",
    "    return np.array(image, dtype=np.int16)"
   ]
  },
  {
   "cell_type": "code",
   "execution_count": 4,
   "metadata": {},
   "outputs": [],
   "source": [
    "patients_pixels = []\n",
    "first_patient_pixels = []\n",
    "for patients in slicesData:\n",
    "    first_patient = patients\n",
    "    first_patient_pixels = get_pixels_hu(first_patient)\n",
    "    patients_pixels.append(first_patient_pixels)\n",
    "    #plt.hist(first_patient_pixels.flatten(), bins=100, color='c')\n",
    "    #plt.xlabel(\"Hounsfield Units (HU)\")\n",
    "    #plt.ylabel(\"Frequency\")\n",
    "    #plt.show()\n",
    "  "
   ]
  },
  {
   "cell_type": "code",
   "execution_count": 5,
   "metadata": {},
   "outputs": [],
   "source": [
    "MIN_BOUND = -200.0\n",
    "MAX_BOUND = 500.0\n",
    "    \n",
    "def normalize(image):\n",
    "    image = (image - MIN_BOUND) / (MAX_BOUND - MIN_BOUND)\n",
    "    image[image>1] = 1.\n",
    "    image[image<0] = 0.\n",
    "    return image\n",
    "\n",
    "normalized_patients = []\n",
    "for pat in patients_pixels:\n",
    "    normalized_patients.append( normalize(pat) )\n"
   ]
  },
  {
   "cell_type": "code",
   "execution_count": 6,
   "metadata": {},
   "outputs": [],
   "source": [
    "#for patient in normalized_patients:\n",
    "#     first_patient = patients\n",
    "#     first_patient_pixels = get_pixels_hu(first_patient)\n",
    "    #print(patient.shape)\n",
    "    #plt.hist(patient.flatten(), bins=80, color='c')\n",
    "    #plt.xlabel(\"Hounsfield Units (HU)\")\n",
    "    #plt.ylabel(\"Frequency\")\n",
    "    #plt.show()\n",
    "    # Show some slice in the middle\n",
    "    #plt.imshow(patient[len(patient)-50], cmap=plt.cm.gray)\n",
    "    #plt.show()"
   ]
  },
  {
   "cell_type": "code",
   "execution_count": 7,
   "metadata": {},
   "outputs": [],
   "source": [
    "liver_segm = []\n",
    "for i in range(15):\n",
    "    s1 = \"3Dircadb1/3Dircadb1.\"\n",
    "    s2 = \"/MASKS_DICOM/liver\"\n",
    "    liver_segm.append(s1+str(i+1)+s2)\n",
    "#print(liver_segm)"
   ]
  },
  {
   "cell_type": "code",
   "execution_count": 8,
   "metadata": {},
   "outputs": [],
   "source": [
    "liver_slices =[]\n",
    "for liver in liver_segm:\n",
    "#     labels_df.get_value(patient, 'cancer')\n",
    "    path = liver\n",
    "    # a couple great 1-liners from: https://www.kaggle.com/gzuidhof/data-science-bowl-2017/full-preprocessing-tutorial\n",
    "    slices = [pydicom.read_file(path+\"/\" + s) for s in os.listdir(path)]\n",
    "    slices.sort(key = lambda x: int(x.ImagePositionPatient[2]))\n",
    "    liver_slices.append(slices)\n",
    "\n",
    "#liver_slices[6][1]"
   ]
  },
  {
   "cell_type": "code",
   "execution_count": 9,
   "metadata": {},
   "outputs": [],
   "source": [
    "liver_pixels = []\n",
    "for liver in liver_slices:\n",
    "    pixels = get_pixels_hu(liver)\n",
    "    liver_pixels.append(pixels)\n",
    "    #plt.hist(pixels.flatten(), bins=200, color='c')\n",
    "    #plt.xlabel(\"Hounsfield Units (HU)\")\n",
    "    #plt.ylabel(\"Frequency\")\n",
    "    #plt.show()\n",
    "    # Show some slice in the middle\n",
    "    # plt.imshow(first_patient_pixels[len(first_patient)-1], cmap=plt.cm.gray)\n",
    "    # plt.show()"
   ]
  },
  {
   "cell_type": "code",
   "execution_count": 10,
   "metadata": {},
   "outputs": [],
   "source": [
    "def normalize2(image):\n",
    "    MAX_BOUND = np.max(image)\n",
    "    MIN_BOUND = np.min(image)\n",
    "    image = (image - MIN_BOUND) / (MAX_BOUND - MIN_BOUND)\n",
    "    image[image>1] = 1.\n",
    "    image[image<0] = 0.\n",
    "    return image\n",
    "\n",
    "normalized_liver = []\n",
    "for pat in liver_pixels:\n",
    "    normalized_liver.append( normalize2(pat) )\n",
    "    \n",
    "#for patient in normalized_liver:\n",
    "#     first_patient = patients\n",
    "#     first_patient_pixels = get_pixels_hu(first_patient)\n",
    "#    print(patient.shape)\n",
    "#    plt.hist(patient.flatten(), bins=10, color='c')\n",
    "#    plt.xlabel(\"Hounsfield Units (HU)\")\n",
    "#    plt.ylabel(\"Frequency\")\n",
    "#    plt.show()\n",
    "#    # Show some slice in the middle\n",
    "#    plt.imshow(patient[len(patient)-27], cmap=plt.cm.gray)\n",
    "#    plt.show()"
   ]
  },
  {
   "cell_type": "code",
   "execution_count": 11,
   "metadata": {},
   "outputs": [],
   "source": [
    "IMG_PX_SIZE = 1000\n",
    "\n",
    "# fig = plt.figure()\n",
    "#for num,each_slice in enumerate(normalized_liver[14]):\n",
    "#   y = fig.add_subplot(,6,num+1)\n",
    "    #print(num)\n",
    "    #plt.imshow(np.array(each_slice),cmap=plt.cm.gray)\n",
    "    #plt.show()\n"
   ]
  },
  {
   "cell_type": "code",
   "execution_count": 12,
   "metadata": {},
   "outputs": [],
   "source": [
    "def tumor_segm(tumur_count = [7,1,1,1,1,3,1,1,1,1,1,1,2,1,1]):\n",
    "    tumor_segm = []\n",
    "    pathes = []\n",
    "    for i in range(15):\n",
    "        s1 = \"3Dircadb1/3Dircadb1.\"\n",
    "        s2 = \"/MASKS_DICOM/livertumor0\"\n",
    "        if tumur_count[i] == 1:\n",
    "            pathes.append([s1+str(i+1)+s2+'1'])\n",
    "        else:\n",
    "            l = []\n",
    "            for k in range(tumur_count[i]):\n",
    "                l.append(s1+str(i+1)+s2+str(k+1))\n",
    "            pathes.append(l)\n",
    "    #print(pathes)\n",
    "    \n",
    "    \n",
    "    tumor_slices = []\n",
    "    tumor_norm = []\n",
    "    for path in pathes:\n",
    "    #     labels_df.get_value(patient, 'cancer')\n",
    "        if len(path) == 1:\n",
    "            # a couple great 1-liners from: https://www.kaggle.com/gzuidhof/data-science-bowl-2017/full-preprocessing-tutorial\n",
    "            slices = [pydicom.read_file(path[0]+\"/\" + s) for s in os.listdir(path[0])]\n",
    "            slices.sort(key = lambda x: int(x.ImagePositionPatient[2]))\n",
    "            tumor_slices.append(slices)\n",
    "            hf_3d = get_pixels_hu(slices)\n",
    "            norm = normalize2(hf_3d)\n",
    "            tumor_norm.append(norm)\n",
    "            \n",
    "        else:\n",
    "            temp = []\n",
    "            slices1 = [pydicom.read_file(path[0]+\"/\" + s) for s in os.listdir(path[0])]\n",
    "            slices1.sort(key = lambda x: int(x.ImagePositionPatient[2]))\n",
    "            dumy = get_pixels_hu(slices1)\n",
    "            add = np.zeros(shape = dumy.shape)\n",
    "            for k in range(len(path)):\n",
    "                slices = [pydicom.read_file(path[k]+\"/\" + s) for s in os.listdir(path[k])]\n",
    "                slices.sort(key = lambda x: int(x.ImagePositionPatient[2]))\n",
    "                temp.append(slices)\n",
    "                hf_3d = get_pixels_hu(slices)\n",
    "                norm = normalize2(hf_3d)\n",
    "                add = add + norm\n",
    "            tumor_slices.append(temp)\n",
    "            tumor_norm.append(add)\n",
    "    \n",
    "    \n",
    "    return tumor_norm,tumor_slices\n",
    "\n",
    "normalized_tumor,tumor_slices = tumor_segm()"
   ]
  },
  {
   "cell_type": "code",
   "execution_count": 13,
   "metadata": {},
   "outputs": [],
   "source": [
    "#for patient in normalized_tumor:\n",
    "#     first_patient = patients\n",
    "#     first_patient_pixels = get_pixels_hu(first_patient)\n",
    "    #print(patient.shape)\n",
    "    #plt.hist(patient.flatten(), bins=100, color='c')\n",
    "    #plt.xlabel(\"Hounsfield Units (HU)\")\n",
    "    #plt.ylabel(\"Frequency\")\n",
    "    #plt.show()\n",
    "    # Show some slice in the middle\n",
    "    #plt.imshow(patient[len(patient)-27], cmap=plt.cm.gray)\n",
    "    #plt.show()"
   ]
  },
  {
   "cell_type": "code",
   "execution_count": 14,
   "metadata": {},
   "outputs": [],
   "source": [
    "#np.save(\"tumorsOfPatient1\", fullTumor)"
   ]
  },
  {
   "cell_type": "code",
   "execution_count": 19,
   "metadata": {},
   "outputs": [],
   "source": [
    "def resample(image, scan, new_spacing=[1,1,1]):\n",
    "    # Determine current pixel spacing\n",
    "    #spacing = np.array( shape=([scan[0].SliceThickness] , scan[0].PixelSpacing, scan[0].PixelSpacing), dtype=np.float32)\n",
    "    spacing = np.array([slices[0].SliceThickness, slices[0].PixelSpacing[0], slices[0].PixelSpacing[1]], dtype=np.float32)\n",
    "\n",
    "    resize_factor = spacing / new_spacing\n",
    "    new_real_shape = image.shape * resize_factor\n",
    "    new_shape = np.round(new_real_shape)\n",
    "    real_resize_factor = new_shape / image.shape\n",
    "    new_spacing = spacing / real_resize_factor\n",
    "    \n",
    "    image = scipy.ndimage.interpolation.zoom(image, real_resize_factor, mode='nearest')\n",
    "    \n",
    "    return image, new_spacing"
   ]
  },
  {
   "cell_type": "code",
   "execution_count": null,
   "metadata": {},
   "outputs": [
    {
     "name": "stdout",
     "output_type": "stream",
     "text": [
      "patient  0\n",
      "Shape after resampling\t (516, 360, 360)\n",
      "patient  1\n",
      "Shape after resampling\t (688, 360, 360)\n",
      "patient  2\n",
      "Shape after resampling\t (800, 360, 360)\n",
      "patient  3\n",
      "Shape after resampling\t (364, 360, 360)\n",
      "patient  4\n",
      "Shape after resampling\t (540, 360, 360)\n",
      "patient  5\n",
      "Shape after resampling\t (496, 360, 360)\n",
      "patient  6\n",
      "Shape after resampling\t (444, 360, 360)\n",
      "patient  7\n",
      "Shape after resampling\t (488, 360, 360)\n",
      "patient  8\n",
      "Shape after resampling\t (1040, 360, 360)\n",
      "patient  9\n",
      "Shape after resampling\t (488, 360, 360)\n",
      "patient  10\n",
      "Shape after resampling\t (500, 360, 360)\n",
      "patient  11\n",
      "Shape after resampling\t (620, 360, 360)\n",
      "patient  12\n",
      "Shape after resampling\t (476, 360, 360)\n",
      "patient  13\n",
      "Shape after resampling\t (296, 360, 360)\n"
     ]
    }
   ],
   "source": [
    "resampled_patients_pixels = []\n",
    "for i in range(15):\n",
    "    pix_resampled, spacing = resample(normalized_patients[i], slicesData[i], [1,1,1])\n",
    "    resampled_patients_pixels.append(pix_resampled)\n",
    "    print('patient ',i)\n",
    "    print(\"Shape after resampling\\t\", pix_resampled.shape)\n",
    "    #plt.imshow(pix_resampled[int(pix_resampled.shape[0]/2)])\n",
    "    #plt.show()"
   ]
  },
  {
   "cell_type": "code",
   "execution_count": null,
   "metadata": {},
   "outputs": [],
   "source": [
    "np.save(\"offline-patient-resampled-1\", resampled_patients_pixels)\n",
    "np.savetxt(\"offline-patient-resampled-txt-1\", resampled_patients_pixels)"
   ]
  },
  {
   "cell_type": "code",
   "execution_count": null,
   "metadata": {},
   "outputs": [],
   "source": [
    "resampled_liver_pixels = []\n",
    "for i in range(15):\n",
    "    pix_resampled, spacing = resample(normalized_liver[i], slicesData[i], [1,1,1])\n",
    "    resampled_liver_pixels.append(pix_resampled)\n",
    "    print('patient ',i)\n",
    "    print(\"Shape after resampling\\t\", pix_resampled.shape)\n",
    "    #plt.imshow(pix_resampled[int(pix_resampled.shape[0]/2)])\n",
    "    #plt.show()"
   ]
  },
  {
   "cell_type": "code",
   "execution_count": null,
   "metadata": {},
   "outputs": [],
   "source": [
    "resampled_tumor_pixels = []\n",
    "for i in range(15):\n",
    "    pix_resampled, spacing = resample(normalized_liver[i], slicesData[i], [1,1,1])\n",
    "    resampled_tumor_pixels.append(pix_resampled)\n",
    "    print('patient ',i)\n",
    "    print(\"Shape after resampling\\t\", pix_resampled.shape)\n",
    "    plt.imshow(pix_resampled[int(pix_resampled.shape[0]/2)])\n",
    "    plt.show()"
   ]
  },
  {
   "cell_type": "code",
   "execution_count": null,
   "metadata": {},
   "outputs": [],
   "source": []
  }
 ],
 "metadata": {
  "kernelspec": {
   "display_name": "Python 3",
   "language": "python",
   "name": "python3"
  },
  "language_info": {
   "codemirror_mode": {
    "name": "ipython",
    "version": 3
   },
   "file_extension": ".py",
   "mimetype": "text/x-python",
   "name": "python",
   "nbconvert_exporter": "python",
   "pygments_lexer": "ipython3",
   "version": "3.7.3"
  }
 },
 "nbformat": 4,
 "nbformat_minor": 1
}
